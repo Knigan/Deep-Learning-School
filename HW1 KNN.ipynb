{
  "nbformat": 4,
  "nbformat_minor": 0,
  "metadata": {
    "colab": {
      "provenance": []
    },
    "kernelspec": {
      "display_name": "Python 3",
      "language": "python",
      "name": "python3"
    },
    "language_info": {
      "codemirror_mode": {
        "name": "ipython",
        "version": 3
      },
      "file_extension": ".py",
      "mimetype": "text/x-python",
      "name": "python",
      "nbconvert_exporter": "python",
      "pygments_lexer": "ipython3",
      "version": "3.6.8"
    }
  },
  "cells": [
    {
      "cell_type": "markdown",
      "metadata": {
        "id": "pgFYFftQKxY5"
      },
      "source": [
        "<p style=\"align: center;\"><img align=center src=\"https://s8.hostingkartinok.com/uploads/images/2018/08/308b49fcfbc619d629fe4604bceb67ac.jpg\" style=\"height:450px;\" width=500/></p>\n",
        "\n",
        "<h3 style=\"text-align: center;\"><b>Школа глубокого обучения ФПМИ МФТИ</b></h3>\n",
        "<h3 style=\"text-align: center;\"><b>Базовый и продвинутый потоки. Осень 2021</b></h3>\n",
        "\n",
        "<h1 style=\"text-align: center;\"><b>Домашнее задание. Библиотека sklearn и классификация с помощью KNN</b></h1>"
      ]
    },
    {
      "cell_type": "markdown",
      "metadata": {
        "id": "v4RCHGZULaWz"
      },
      "source": [
        "На основе [курса по Машинному Обучению ФИВТ МФТИ](https://github.com/ml-mipt/ml-mipt) и [Открытого курса по Машинному Обучению](https://habr.com/ru/company/ods/blog/322626/)."
      ]
    },
    {
      "cell_type": "markdown",
      "metadata": {
        "id": "F2acNQu1L94J"
      },
      "source": [
        "---"
      ]
    },
    {
      "cell_type": "markdown",
      "metadata": {
        "id": "Twe_cnn5KxY6"
      },
      "source": [
        "<h2 style=\"text-align: center;\"><b>K Nearest Neighbors (KNN)</b></h2>"
      ]
    },
    {
      "cell_type": "markdown",
      "metadata": {
        "id": "YD0NXyUYKxY7"
      },
      "source": [
        "Метод ближайших соседей (k Nearest Neighbors, или kNN) — очень популярный метод классификации, также иногда используемый в задачах регрессии. Это один из самых понятных подходов к классификации. На уровне интуиции суть метода такова: посмотри на соседей; какие преобладают --- таков и ты. Формально основой метода является гипотеза компактности: если метрика расстояния между примерами введена достаточно удачно, то схожие примеры гораздо чаще лежат в одном классе, чем в разных."
      ]
    },
    {
      "cell_type": "markdown",
      "metadata": {
        "id": "CTa2jNZkKxY8"
      },
      "source": [
        "<img src='https://hsto.org/web/68d/a45/6f0/68da456f00f8434e87628dbe7e3f54a7.png' width=600>"
      ]
    },
    {
      "cell_type": "markdown",
      "metadata": {
        "id": "5H7wPU0IKxY-"
      },
      "source": [
        "\n",
        "Для классификации каждого из объектов тестовой выборки необходимо последовательно выполнить следующие операции:\n",
        "\n",
        "* Вычислить расстояние до каждого из объектов обучающей выборки\n",
        "* Отобрать объектов обучающей выборки, расстояние до которых минимально\n",
        "* Класс классифицируемого объекта — это класс, наиболее часто встречающийся среди $k$ ближайших соседей"
      ]
    },
    {
      "cell_type": "markdown",
      "metadata": {
        "id": "T2docs4225pb"
      },
      "source": [
        "Будем работать с подвыборкой из [данных о типе лесного покрытия из репозитория UCI](http://archive.ics.uci.edu/ml/datasets/Covertype). Доступно 7 различных классов. Каждый объект описывается 54 признаками, 40 из которых являются бинарными. Описание данных доступно по ссылке."
      ]
    },
    {
      "cell_type": "markdown",
      "metadata": {
        "id": "AcjJQX3wKxZA"
      },
      "source": [
        "### Обработка данных"
      ]
    },
    {
      "cell_type": "code",
      "metadata": {
        "id": "Ozcx5mVOKxZB"
      },
      "source": [
        "import pandas as pd\n",
        "import numpy as np"
      ],
      "execution_count": null,
      "outputs": []
    },
    {
      "cell_type": "markdown",
      "metadata": {
        "id": "Ry4bMKaUjHJj"
      },
      "source": [
        "Сcылка на датасет (лежит в папке): https://drive.google.com/drive/folders/16TSz1P-oTF8iXSQ1xrt0r_VO35xKmUes?usp=sharing"
      ]
    },
    {
      "cell_type": "code",
      "metadata": {
        "id": "rvPrVRvK25pc",
        "colab": {
          "base_uri": "https://localhost:8080/",
          "height": 235
        },
        "outputId": "ac4aaa51-2895-4231-c84d-93a78d838e33"
      },
      "source": [
        "all_data = pd.read_csv('forest_dataset.csv')\n",
        "all_data.head()"
      ],
      "execution_count": null,
      "outputs": [
        {
          "output_type": "execute_result",
          "data": {
            "text/plain": [
              "      0    1   2    3   4     5    6    7    8     9  ...  45  46  47  48  49  \\\n",
              "0  2683  333  35   30  26  2743  121  173  179  6572  ...   0   0   0   0   0   \n",
              "1  2915   90   8  216  11  4433  232  228  129  4019  ...   0   0   0   0   0   \n",
              "2  2941  162   7  698  76  2783  227  242  148  1784  ...   0   0   0   0   0   \n",
              "3  3096   60  17  170   3  3303  231  202   99  5370  ...   0   0   0   0   0   \n",
              "4  2999   66   8  488  37  1532  228  225  131  2290  ...   0   0   0   0   0   \n",
              "\n",
              "   50  51  52  53  54  \n",
              "0   0   0   0   0   2  \n",
              "1   0   0   0   0   1  \n",
              "2   0   0   0   0   2  \n",
              "3   0   0   0   0   1  \n",
              "4   0   0   0   0   2  \n",
              "\n",
              "[5 rows x 55 columns]"
            ],
            "text/html": [
              "\n",
              "  <div id=\"df-cc215c89-dc1c-41ab-b704-2ce314d76859\" class=\"colab-df-container\">\n",
              "    <div>\n",
              "<style scoped>\n",
              "    .dataframe tbody tr th:only-of-type {\n",
              "        vertical-align: middle;\n",
              "    }\n",
              "\n",
              "    .dataframe tbody tr th {\n",
              "        vertical-align: top;\n",
              "    }\n",
              "\n",
              "    .dataframe thead th {\n",
              "        text-align: right;\n",
              "    }\n",
              "</style>\n",
              "<table border=\"1\" class=\"dataframe\">\n",
              "  <thead>\n",
              "    <tr style=\"text-align: right;\">\n",
              "      <th></th>\n",
              "      <th>0</th>\n",
              "      <th>1</th>\n",
              "      <th>2</th>\n",
              "      <th>3</th>\n",
              "      <th>4</th>\n",
              "      <th>5</th>\n",
              "      <th>6</th>\n",
              "      <th>7</th>\n",
              "      <th>8</th>\n",
              "      <th>9</th>\n",
              "      <th>...</th>\n",
              "      <th>45</th>\n",
              "      <th>46</th>\n",
              "      <th>47</th>\n",
              "      <th>48</th>\n",
              "      <th>49</th>\n",
              "      <th>50</th>\n",
              "      <th>51</th>\n",
              "      <th>52</th>\n",
              "      <th>53</th>\n",
              "      <th>54</th>\n",
              "    </tr>\n",
              "  </thead>\n",
              "  <tbody>\n",
              "    <tr>\n",
              "      <th>0</th>\n",
              "      <td>2683</td>\n",
              "      <td>333</td>\n",
              "      <td>35</td>\n",
              "      <td>30</td>\n",
              "      <td>26</td>\n",
              "      <td>2743</td>\n",
              "      <td>121</td>\n",
              "      <td>173</td>\n",
              "      <td>179</td>\n",
              "      <td>6572</td>\n",
              "      <td>...</td>\n",
              "      <td>0</td>\n",
              "      <td>0</td>\n",
              "      <td>0</td>\n",
              "      <td>0</td>\n",
              "      <td>0</td>\n",
              "      <td>0</td>\n",
              "      <td>0</td>\n",
              "      <td>0</td>\n",
              "      <td>0</td>\n",
              "      <td>2</td>\n",
              "    </tr>\n",
              "    <tr>\n",
              "      <th>1</th>\n",
              "      <td>2915</td>\n",
              "      <td>90</td>\n",
              "      <td>8</td>\n",
              "      <td>216</td>\n",
              "      <td>11</td>\n",
              "      <td>4433</td>\n",
              "      <td>232</td>\n",
              "      <td>228</td>\n",
              "      <td>129</td>\n",
              "      <td>4019</td>\n",
              "      <td>...</td>\n",
              "      <td>0</td>\n",
              "      <td>0</td>\n",
              "      <td>0</td>\n",
              "      <td>0</td>\n",
              "      <td>0</td>\n",
              "      <td>0</td>\n",
              "      <td>0</td>\n",
              "      <td>0</td>\n",
              "      <td>0</td>\n",
              "      <td>1</td>\n",
              "    </tr>\n",
              "    <tr>\n",
              "      <th>2</th>\n",
              "      <td>2941</td>\n",
              "      <td>162</td>\n",
              "      <td>7</td>\n",
              "      <td>698</td>\n",
              "      <td>76</td>\n",
              "      <td>2783</td>\n",
              "      <td>227</td>\n",
              "      <td>242</td>\n",
              "      <td>148</td>\n",
              "      <td>1784</td>\n",
              "      <td>...</td>\n",
              "      <td>0</td>\n",
              "      <td>0</td>\n",
              "      <td>0</td>\n",
              "      <td>0</td>\n",
              "      <td>0</td>\n",
              "      <td>0</td>\n",
              "      <td>0</td>\n",
              "      <td>0</td>\n",
              "      <td>0</td>\n",
              "      <td>2</td>\n",
              "    </tr>\n",
              "    <tr>\n",
              "      <th>3</th>\n",
              "      <td>3096</td>\n",
              "      <td>60</td>\n",
              "      <td>17</td>\n",
              "      <td>170</td>\n",
              "      <td>3</td>\n",
              "      <td>3303</td>\n",
              "      <td>231</td>\n",
              "      <td>202</td>\n",
              "      <td>99</td>\n",
              "      <td>5370</td>\n",
              "      <td>...</td>\n",
              "      <td>0</td>\n",
              "      <td>0</td>\n",
              "      <td>0</td>\n",
              "      <td>0</td>\n",
              "      <td>0</td>\n",
              "      <td>0</td>\n",
              "      <td>0</td>\n",
              "      <td>0</td>\n",
              "      <td>0</td>\n",
              "      <td>1</td>\n",
              "    </tr>\n",
              "    <tr>\n",
              "      <th>4</th>\n",
              "      <td>2999</td>\n",
              "      <td>66</td>\n",
              "      <td>8</td>\n",
              "      <td>488</td>\n",
              "      <td>37</td>\n",
              "      <td>1532</td>\n",
              "      <td>228</td>\n",
              "      <td>225</td>\n",
              "      <td>131</td>\n",
              "      <td>2290</td>\n",
              "      <td>...</td>\n",
              "      <td>0</td>\n",
              "      <td>0</td>\n",
              "      <td>0</td>\n",
              "      <td>0</td>\n",
              "      <td>0</td>\n",
              "      <td>0</td>\n",
              "      <td>0</td>\n",
              "      <td>0</td>\n",
              "      <td>0</td>\n",
              "      <td>2</td>\n",
              "    </tr>\n",
              "  </tbody>\n",
              "</table>\n",
              "<p>5 rows × 55 columns</p>\n",
              "</div>\n",
              "    <div class=\"colab-df-buttons\">\n",
              "\n",
              "  <div class=\"colab-df-container\">\n",
              "    <button class=\"colab-df-convert\" onclick=\"convertToInteractive('df-cc215c89-dc1c-41ab-b704-2ce314d76859')\"\n",
              "            title=\"Convert this dataframe to an interactive table.\"\n",
              "            style=\"display:none;\">\n",
              "\n",
              "  <svg xmlns=\"http://www.w3.org/2000/svg\" height=\"24px\" viewBox=\"0 -960 960 960\">\n",
              "    <path d=\"M120-120v-720h720v720H120Zm60-500h600v-160H180v160Zm220 220h160v-160H400v160Zm0 220h160v-160H400v160ZM180-400h160v-160H180v160Zm440 0h160v-160H620v160ZM180-180h160v-160H180v160Zm440 0h160v-160H620v160Z\"/>\n",
              "  </svg>\n",
              "    </button>\n",
              "\n",
              "  <style>\n",
              "    .colab-df-container {\n",
              "      display:flex;\n",
              "      gap: 12px;\n",
              "    }\n",
              "\n",
              "    .colab-df-convert {\n",
              "      background-color: #E8F0FE;\n",
              "      border: none;\n",
              "      border-radius: 50%;\n",
              "      cursor: pointer;\n",
              "      display: none;\n",
              "      fill: #1967D2;\n",
              "      height: 32px;\n",
              "      padding: 0 0 0 0;\n",
              "      width: 32px;\n",
              "    }\n",
              "\n",
              "    .colab-df-convert:hover {\n",
              "      background-color: #E2EBFA;\n",
              "      box-shadow: 0px 1px 2px rgba(60, 64, 67, 0.3), 0px 1px 3px 1px rgba(60, 64, 67, 0.15);\n",
              "      fill: #174EA6;\n",
              "    }\n",
              "\n",
              "    .colab-df-buttons div {\n",
              "      margin-bottom: 4px;\n",
              "    }\n",
              "\n",
              "    [theme=dark] .colab-df-convert {\n",
              "      background-color: #3B4455;\n",
              "      fill: #D2E3FC;\n",
              "    }\n",
              "\n",
              "    [theme=dark] .colab-df-convert:hover {\n",
              "      background-color: #434B5C;\n",
              "      box-shadow: 0px 1px 3px 1px rgba(0, 0, 0, 0.15);\n",
              "      filter: drop-shadow(0px 1px 2px rgba(0, 0, 0, 0.3));\n",
              "      fill: #FFFFFF;\n",
              "    }\n",
              "  </style>\n",
              "\n",
              "    <script>\n",
              "      const buttonEl =\n",
              "        document.querySelector('#df-cc215c89-dc1c-41ab-b704-2ce314d76859 button.colab-df-convert');\n",
              "      buttonEl.style.display =\n",
              "        google.colab.kernel.accessAllowed ? 'block' : 'none';\n",
              "\n",
              "      async function convertToInteractive(key) {\n",
              "        const element = document.querySelector('#df-cc215c89-dc1c-41ab-b704-2ce314d76859');\n",
              "        const dataTable =\n",
              "          await google.colab.kernel.invokeFunction('convertToInteractive',\n",
              "                                                    [key], {});\n",
              "        if (!dataTable) return;\n",
              "\n",
              "        const docLinkHtml = 'Like what you see? Visit the ' +\n",
              "          '<a target=\"_blank\" href=https://colab.research.google.com/notebooks/data_table.ipynb>data table notebook</a>'\n",
              "          + ' to learn more about interactive tables.';\n",
              "        element.innerHTML = '';\n",
              "        dataTable['output_type'] = 'display_data';\n",
              "        await google.colab.output.renderOutput(dataTable, element);\n",
              "        const docLink = document.createElement('div');\n",
              "        docLink.innerHTML = docLinkHtml;\n",
              "        element.appendChild(docLink);\n",
              "      }\n",
              "    </script>\n",
              "  </div>\n",
              "\n",
              "\n",
              "<div id=\"df-8b4fd353-865f-433d-8595-ae1c7cc2ca96\">\n",
              "  <button class=\"colab-df-quickchart\" onclick=\"quickchart('df-8b4fd353-865f-433d-8595-ae1c7cc2ca96')\"\n",
              "            title=\"Suggest charts\"\n",
              "            style=\"display:none;\">\n",
              "\n",
              "<svg xmlns=\"http://www.w3.org/2000/svg\" height=\"24px\"viewBox=\"0 0 24 24\"\n",
              "     width=\"24px\">\n",
              "    <g>\n",
              "        <path d=\"M19 3H5c-1.1 0-2 .9-2 2v14c0 1.1.9 2 2 2h14c1.1 0 2-.9 2-2V5c0-1.1-.9-2-2-2zM9 17H7v-7h2v7zm4 0h-2V7h2v10zm4 0h-2v-4h2v4z\"/>\n",
              "    </g>\n",
              "</svg>\n",
              "  </button>\n",
              "\n",
              "<style>\n",
              "  .colab-df-quickchart {\n",
              "      --bg-color: #E8F0FE;\n",
              "      --fill-color: #1967D2;\n",
              "      --hover-bg-color: #E2EBFA;\n",
              "      --hover-fill-color: #174EA6;\n",
              "      --disabled-fill-color: #AAA;\n",
              "      --disabled-bg-color: #DDD;\n",
              "  }\n",
              "\n",
              "  [theme=dark] .colab-df-quickchart {\n",
              "      --bg-color: #3B4455;\n",
              "      --fill-color: #D2E3FC;\n",
              "      --hover-bg-color: #434B5C;\n",
              "      --hover-fill-color: #FFFFFF;\n",
              "      --disabled-bg-color: #3B4455;\n",
              "      --disabled-fill-color: #666;\n",
              "  }\n",
              "\n",
              "  .colab-df-quickchart {\n",
              "    background-color: var(--bg-color);\n",
              "    border: none;\n",
              "    border-radius: 50%;\n",
              "    cursor: pointer;\n",
              "    display: none;\n",
              "    fill: var(--fill-color);\n",
              "    height: 32px;\n",
              "    padding: 0;\n",
              "    width: 32px;\n",
              "  }\n",
              "\n",
              "  .colab-df-quickchart:hover {\n",
              "    background-color: var(--hover-bg-color);\n",
              "    box-shadow: 0 1px 2px rgba(60, 64, 67, 0.3), 0 1px 3px 1px rgba(60, 64, 67, 0.15);\n",
              "    fill: var(--button-hover-fill-color);\n",
              "  }\n",
              "\n",
              "  .colab-df-quickchart-complete:disabled,\n",
              "  .colab-df-quickchart-complete:disabled:hover {\n",
              "    background-color: var(--disabled-bg-color);\n",
              "    fill: var(--disabled-fill-color);\n",
              "    box-shadow: none;\n",
              "  }\n",
              "\n",
              "  .colab-df-spinner {\n",
              "    border: 2px solid var(--fill-color);\n",
              "    border-color: transparent;\n",
              "    border-bottom-color: var(--fill-color);\n",
              "    animation:\n",
              "      spin 1s steps(1) infinite;\n",
              "  }\n",
              "\n",
              "  @keyframes spin {\n",
              "    0% {\n",
              "      border-color: transparent;\n",
              "      border-bottom-color: var(--fill-color);\n",
              "      border-left-color: var(--fill-color);\n",
              "    }\n",
              "    20% {\n",
              "      border-color: transparent;\n",
              "      border-left-color: var(--fill-color);\n",
              "      border-top-color: var(--fill-color);\n",
              "    }\n",
              "    30% {\n",
              "      border-color: transparent;\n",
              "      border-left-color: var(--fill-color);\n",
              "      border-top-color: var(--fill-color);\n",
              "      border-right-color: var(--fill-color);\n",
              "    }\n",
              "    40% {\n",
              "      border-color: transparent;\n",
              "      border-right-color: var(--fill-color);\n",
              "      border-top-color: var(--fill-color);\n",
              "    }\n",
              "    60% {\n",
              "      border-color: transparent;\n",
              "      border-right-color: var(--fill-color);\n",
              "    }\n",
              "    80% {\n",
              "      border-color: transparent;\n",
              "      border-right-color: var(--fill-color);\n",
              "      border-bottom-color: var(--fill-color);\n",
              "    }\n",
              "    90% {\n",
              "      border-color: transparent;\n",
              "      border-bottom-color: var(--fill-color);\n",
              "    }\n",
              "  }\n",
              "</style>\n",
              "\n",
              "  <script>\n",
              "    async function quickchart(key) {\n",
              "      const quickchartButtonEl =\n",
              "        document.querySelector('#' + key + ' button');\n",
              "      quickchartButtonEl.disabled = true;  // To prevent multiple clicks.\n",
              "      quickchartButtonEl.classList.add('colab-df-spinner');\n",
              "      try {\n",
              "        const charts = await google.colab.kernel.invokeFunction(\n",
              "            'suggestCharts', [key], {});\n",
              "      } catch (error) {\n",
              "        console.error('Error during call to suggestCharts:', error);\n",
              "      }\n",
              "      quickchartButtonEl.classList.remove('colab-df-spinner');\n",
              "      quickchartButtonEl.classList.add('colab-df-quickchart-complete');\n",
              "    }\n",
              "    (() => {\n",
              "      let quickchartButtonEl =\n",
              "        document.querySelector('#df-8b4fd353-865f-433d-8595-ae1c7cc2ca96 button');\n",
              "      quickchartButtonEl.style.display =\n",
              "        google.colab.kernel.accessAllowed ? 'block' : 'none';\n",
              "    })();\n",
              "  </script>\n",
              "</div>\n",
              "    </div>\n",
              "  </div>\n"
            ],
            "application/vnd.google.colaboratory.intrinsic+json": {
              "type": "dataframe",
              "variable_name": "all_data"
            }
          },
          "metadata": {},
          "execution_count": 174
        }
      ]
    },
    {
      "cell_type": "code",
      "metadata": {
        "id": "_o8yXBPSKxZI",
        "colab": {
          "base_uri": "https://localhost:8080/"
        },
        "outputId": "a286c306-045a-403c-929a-ad14f467bb92"
      },
      "source": [
        "all_data.shape"
      ],
      "execution_count": null,
      "outputs": [
        {
          "output_type": "execute_result",
          "data": {
            "text/plain": [
              "(10000, 55)"
            ]
          },
          "metadata": {},
          "execution_count": 175
        }
      ]
    },
    {
      "cell_type": "markdown",
      "metadata": {
        "id": "itCWxHEY25pg"
      },
      "source": [
        "Выделим значения метки класса в переменную `labels`, признаковые описания --- в переменную `feature_matrix`. Так как данные числовые и не имеют пропусков, переведем их в `numpy`-формат с помощью метода `.values`."
      ]
    },
    {
      "cell_type": "code",
      "metadata": {
        "id": "f_YIUOuV25ph"
      },
      "source": [
        "labels = all_data[all_data.columns[-1]].values\n",
        "feature_matrix = all_data[all_data.columns[:-1]].values"
      ],
      "execution_count": null,
      "outputs": []
    },
    {
      "cell_type": "markdown",
      "metadata": {
        "id": "FukXaH_r8PMQ"
      },
      "source": [
        "### Пара слов о sklearn"
      ]
    },
    {
      "cell_type": "markdown",
      "metadata": {
        "id": "k5S_0Lfc8PMR"
      },
      "source": [
        "**[sklearn](https://scikit-learn.org/stable/index.html)** -- удобная библиотека для знакомства с машинным обучением. В ней реализованны большинство стандартных алгоритмов для построения моделей и работ с выборками. У неё есть подробная документация на английском, с которой вам придётся поработать."
      ]
    },
    {
      "cell_type": "markdown",
      "metadata": {
        "id": "VhVDEG538PMS"
      },
      "source": [
        "`sklearn` предпологает, что ваши выборки имеют вид пар $(X, y)$, где $X$ -- матрица признаков, $y$ -- вектор истинных значений целевой переменной, или просто $X$, если целевые переменные неизвестны."
      ]
    },
    {
      "cell_type": "markdown",
      "metadata": {
        "id": "QJZQulsp8PMT"
      },
      "source": [
        "Познакомимся со вспомогательной функцией\n",
        "[train_test_split](https://scikit-learn.org/stable/modules/generated/sklearn.model_selection.train_test_split.html).\n",
        "С её помощью можно разбить выборку на обучающую и тестовую части."
      ]
    },
    {
      "cell_type": "code",
      "metadata": {
        "id": "Q030jzyY25pl"
      },
      "source": [
        "from sklearn.model_selection import train_test_split"
      ],
      "execution_count": null,
      "outputs": []
    },
    {
      "cell_type": "markdown",
      "metadata": {
        "id": "UkeB47mX8PMY"
      },
      "source": [
        "Вернёмся к датасету. Сейчас будем работать со всеми 7 типами покрытия (данные уже находятся в переменных `feature_matrix` и `labels`, если Вы их не переопределили). Разделим выборку на обучающую и тестовую с помощью метода `train_test_split`."
      ]
    },
    {
      "cell_type": "code",
      "metadata": {
        "id": "YJN0jFARKxZX"
      },
      "source": [
        "train_feature_matrix, test_feature_matrix, train_labels, test_labels = train_test_split(\n",
        "    feature_matrix, labels, test_size=0.2, random_state=42)"
      ],
      "execution_count": null,
      "outputs": []
    },
    {
      "cell_type": "markdown",
      "metadata": {
        "id": "odC1c7X48PMb"
      },
      "source": [
        "Параметр `test_size` контролирует, какая часть выборки будет тестовой. Более подробно о нём можно прочитать в [документации](https://scikit-learn.org/stable/modules/generated/sklearn.model_selection.train_test_split.html)."
      ]
    },
    {
      "cell_type": "markdown",
      "metadata": {
        "id": "z3fGvPqG8PMc"
      },
      "source": [
        "Основные объекты `sklearn` -- так называемые `estimators`, что можно перевести как *оценщики*, но не стоит, так как по сути это *модели*. Они делятся на **классификаторы** и **регрессоры**.\n",
        "\n",
        "В качестве примера модели можно привести классификаторы\n",
        "[метод ближайших соседей](https://scikit-learn.org/stable/modules/generated/sklearn.neighbors.KNeighborsClassifier.html) и\n",
        "[логистическую регрессию](https://scikit-learn.org/stable/modules/generated/sklearn.linear_model.LogisticRegression.html). Что такое логистическая регрессия и как она работает сейчас не важно."
      ]
    },
    {
      "cell_type": "markdown",
      "metadata": {
        "id": "IuX8Rc7c8PMd"
      },
      "source": [
        "У всех моделей в `sklearn` обязательно должно быть хотя бы 2 метода (подробнее о методах и классах в python будет в следующих занятиях) -- `fit` и `predict`."
      ]
    },
    {
      "cell_type": "markdown",
      "metadata": {
        "id": "ZYokUkxO8PMe"
      },
      "source": [
        "Метод `fit(X, y)` отвечает за обучение модели и принимает на вход обучающую выборку в виде *матрицы признаков* $X$ и *вектора ответов* $y$.\n",
        "\n",
        "У обученной после `fit` модели теперь можно вызывать метод `predict(X)`, который вернёт предсказания этой модели на всех объектах из матрицы $X$ в виде вектора.\n",
        "\n",
        "Вызывать `fit` у одной и той же модели можно несколько раз, каждый раз она будет обучаться заново на переданном наборе данных.\n",
        "\n",
        "Ещё у моделей есть *гиперпараметры*, которые обычно задаются при создании модели.\n",
        "\n",
        "Рассмотрим всё это на примере логистической регрессии."
      ]
    },
    {
      "cell_type": "code",
      "metadata": {
        "id": "ew0Ji_2D8PMe",
        "cellView": "code"
      },
      "source": [
        "from sklearn.linear_model import LogisticRegression"
      ],
      "execution_count": null,
      "outputs": []
    },
    {
      "cell_type": "code",
      "metadata": {
        "id": "c9KcMHXr8PMh",
        "colab": {
          "base_uri": "https://localhost:8080/"
        },
        "outputId": "10586ee7-a649-47ae-ba2c-c6f568a75baa"
      },
      "source": [
        "# создание модели с указанием гиперпараметра C\n",
        "clf = LogisticRegression(C=1, max_iter=1000)\n",
        "# обучение модели\n",
        "clf.fit(train_feature_matrix, train_labels)\n",
        "# предсказание на тестовой выборке\n",
        "y_pred = clf.predict(test_feature_matrix)"
      ],
      "execution_count": null,
      "outputs": [
        {
          "output_type": "stream",
          "name": "stderr",
          "text": [
            "/usr/local/lib/python3.10/dist-packages/sklearn/linear_model/_logistic.py:458: ConvergenceWarning: lbfgs failed to converge (status=1):\n",
            "STOP: TOTAL NO. of ITERATIONS REACHED LIMIT.\n",
            "\n",
            "Increase the number of iterations (max_iter) or scale the data as shown in:\n",
            "    https://scikit-learn.org/stable/modules/preprocessing.html\n",
            "Please also refer to the documentation for alternative solver options:\n",
            "    https://scikit-learn.org/stable/modules/linear_model.html#logistic-regression\n",
            "  n_iter_i = _check_optimize_result(\n"
          ]
        }
      ]
    },
    {
      "cell_type": "markdown",
      "metadata": {
        "id": "h3gjg3pm8PMm"
      },
      "source": [
        "Теперь хотелось бы измерить качество нашей модели. Для этого можно использовать метод `score(X, y)`, который посчитает какую-то функцию ошибки на выборке $X, y$, но какую конкретно уже зависит от модели. Также можно использовать одну из функций модуля `metrics`, например [accuracy_score](https://scikit-learn.org/stable/modules/generated/sklearn.metrics.accuracy_score.html), которая, как понятно из названия, вычислит нам точность предсказаний."
      ]
    },
    {
      "cell_type": "code",
      "metadata": {
        "id": "J2Ej1Lni8PMn",
        "colab": {
          "base_uri": "https://localhost:8080/"
        },
        "outputId": "a5e1bb33-e749-4bb3-be41-80af0c5d7d11"
      },
      "source": [
        "from sklearn.metrics import accuracy_score\n",
        "\n",
        "accuracy_score(test_labels, y_pred)"
      ],
      "execution_count": null,
      "outputs": [
        {
          "output_type": "execute_result",
          "data": {
            "text/plain": [
              "0.6805"
            ]
          },
          "metadata": {},
          "execution_count": 181
        }
      ]
    },
    {
      "cell_type": "markdown",
      "metadata": {
        "id": "malIDW_P8PMp"
      },
      "source": [
        "Наконец, последним, о чём хотелось бы упомянуть, будет перебор гиперпараметров по сетке. Так как у моделей есть много гиперпараметров, которые можно изменять, и от этих гиперпараметров существенно зависит качество модели, хотелось бы найти наилучшие в этом смысле параметры. Самый простой способ это сделать -- просто перебрать все возможные варианты в разумных пределах.\n",
        "\n",
        "Сделать это можно с помощью класса [GridSearchCV](https://scikit-learn.org/stable/modules/generated/sklearn.model_selection.GridSearchCV.html), который осуществляет поиск (search) по сетке (grid) и вычисляет качество модели с помощью кросс-валидации (CV).\n",
        "\n",
        "У логистической регрессии, например, можно поменять параметры `C` и `penalty`. Сделаем это. Учтите, что поиск может занять долгое время. Смысл параметров смотрите в документации."
      ]
    },
    {
      "cell_type": "code",
      "metadata": {
        "id": "vq687Aoc8PMq"
      },
      "source": [
        "from sklearn.model_selection import GridSearchCV"
      ],
      "execution_count": null,
      "outputs": []
    },
    {
      "cell_type": "code",
      "metadata": {
        "id": "OVnqHBvK8PMs"
      },
      "source": [
        "# заново создадим модель, указав солвер\n",
        "clf = LogisticRegression(solver='liblinear')\n",
        "\n",
        "# опишем сетку, по которой будем искать\n",
        "param_grid = {\n",
        "    'C': np.arange(1, 5), # также можно указать обычный массив, [1, 2, 3, 4]\n",
        "    'penalty': ['l1', 'l2'],\n",
        "}\n",
        "\n",
        "# создадим объект GridSearchCV\n",
        "search = GridSearchCV(clf, param_grid, n_jobs=-1, cv=5, refit=True, scoring='accuracy')\n",
        "\n",
        "# запустим поиск\n",
        "#search.fit(feature_matrix, labels)\n",
        "\n",
        "# выведем наилучшие параметры\n",
        "#print(search.best_params_)"
      ],
      "execution_count": null,
      "outputs": []
    },
    {
      "cell_type": "markdown",
      "metadata": {
        "id": "DnVTFcvZ8PMv"
      },
      "source": [
        "В данном случае, поиск перебирает все возможные пары значений C и penalty из заданных множеств."
      ]
    },
    {
      "cell_type": "code",
      "metadata": {
        "id": "ArKINrE_8PMw"
      },
      "source": [
        "#accuracy_score(labels, search.best_estimator_.predict(feature_matrix))"
      ],
      "execution_count": null,
      "outputs": []
    },
    {
      "cell_type": "markdown",
      "metadata": {
        "id": "okzpKY_I8PMz"
      },
      "source": [
        "Заметьте, что мы передаём в GridSearchCV всю выборку, а не только её обучающую часть. Это можно делать, так как поиск всё равно использует кроссвалидацию. Однако порой от выборки всё-же отделяют *валидационную* часть, так как гиперпараметры в процессе поиска могли переобучиться под выборку."
      ]
    },
    {
      "cell_type": "markdown",
      "metadata": {
        "id": "_mdJyxdo8PM1"
      },
      "source": [
        "В заданиях вам предстоит повторить это для метода ближайших соседей."
      ]
    },
    {
      "cell_type": "markdown",
      "metadata": {
        "id": "z8W__017KxZc"
      },
      "source": [
        "### Обучение модели"
      ]
    },
    {
      "cell_type": "markdown",
      "metadata": {
        "id": "02uT6CPYKxZe"
      },
      "source": [
        "Качество классификации/регрессии методом ближайших соседей зависит от нескольких параметров:\n",
        "\n",
        "* число соседей `n_neighbors`\n",
        "* метрика расстояния между объектами `metric`\n",
        "* веса соседей (соседи тестового примера могут входить с разными весами, например, чем дальше пример, тем с меньшим коэффициентом учитывается его \"голос\") `weights`\n"
      ]
    },
    {
      "cell_type": "markdown",
      "metadata": {
        "id": "BHVNCaJ325qD"
      },
      "source": [
        "Обучите на датасете `KNeighborsClassifier` из `sklearn`."
      ]
    },
    {
      "cell_type": "code",
      "metadata": {
        "id": "o4CMnnOY25qD",
        "colab": {
          "base_uri": "https://localhost:8080/"
        },
        "outputId": "0e5e43b3-00d6-4279-cadd-9d4a1dcac9cf"
      },
      "source": [
        "from sklearn.neighbors import KNeighborsClassifier\n",
        "from sklearn.metrics import accuracy_score\n",
        "\n",
        "clf = KNeighborsClassifier(n_neighbors=5, metric=\"l2\", weights=\"distance\")\n",
        "\n",
        "...\n",
        "# Ваш код здесь\n",
        "clf.fit(train_feature_matrix, train_labels)\n",
        "y_pred = clf.predict(test_feature_matrix)\n",
        "accuracy_score(y_pred, test_labels)"
      ],
      "execution_count": null,
      "outputs": [
        {
          "output_type": "execute_result",
          "data": {
            "text/plain": [
              "0.7695"
            ]
          },
          "metadata": {},
          "execution_count": 185
        }
      ]
    },
    {
      "cell_type": "markdown",
      "metadata": {
        "id": "r_2Mf8BiKxZk"
      },
      "source": [
        "### Вопрос 1:\n",
        "* Какое качество у вас получилось?"
      ]
    },
    {
      "cell_type": "markdown",
      "metadata": {
        "id": "uFTIaPdrKxZl"
      },
      "source": [
        "Подберём параметры нашей модели"
      ]
    },
    {
      "cell_type": "markdown",
      "metadata": {
        "id": "8WzoRJZd25qF"
      },
      "source": [
        "* Переберите по сетке от `1` до `10` параметр числа соседей\n",
        "\n",
        "* Также вы попробуйте использоввать различные метрики: `['manhattan', 'euclidean']`\n",
        "\n",
        "* Попробуйте использовать различные стратегии вычисления весов: `[‘uniform’, ‘distance’]`"
      ]
    },
    {
      "cell_type": "code",
      "metadata": {
        "id": "4lMSy-6f25qG",
        "scrolled": true
      },
      "source": [
        "from sklearn.model_selection import GridSearchCV\n",
        "params = {\n",
        "    'n_neighbors': np.arange(1, 11),\n",
        "    'metric': ['manhattan', 'euclidean'],\n",
        "    'weights': ['uniform', 'distance']\n",
        "}\n",
        "\n",
        "clf_grid = GridSearchCV(clf, params, cv=5, scoring='accuracy', n_jobs=-1)\n",
        "\n",
        "#clf_grid.fit(feature_matrix, labels)"
      ],
      "execution_count": null,
      "outputs": []
    },
    {
      "cell_type": "markdown",
      "metadata": {
        "id": "SO7E6G8jKxZp"
      },
      "source": [
        "Выведем лучшие параметры"
      ]
    },
    {
      "cell_type": "code",
      "metadata": {
        "id": "md48pHrMKxZq"
      },
      "source": [
        "#clf_grid.best_params_"
      ],
      "execution_count": null,
      "outputs": []
    },
    {
      "cell_type": "markdown",
      "metadata": {
        "id": "M05n9l8pKxZt"
      },
      "source": [
        "### Вопрос 2:\n",
        "* Какую metric следует использовать?"
      ]
    },
    {
      "cell_type": "markdown",
      "metadata": {
        "id": "Pmjx38OoKxZt"
      },
      "source": [
        "### Вопрос 3:\n",
        "* Сколько n_neighbors следует использовать?"
      ]
    },
    {
      "cell_type": "markdown",
      "metadata": {
        "id": "eqLeJUP8KxZu"
      },
      "source": [
        "### Вопрос 4:\n",
        "* Какой тип weights следует использовать?"
      ]
    },
    {
      "cell_type": "markdown",
      "metadata": {
        "id": "aBmiDbvV25qI"
      },
      "source": [
        "Используя найденное оптимальное число соседей, вычислите вероятности принадлежности к классам для тестовой выборки (`.predict_proba`).\n",
        "\n"
      ]
    },
    {
      "cell_type": "code",
      "source": [],
      "metadata": {
        "id": "8PuzfP0Z2i9W"
      },
      "execution_count": null,
      "outputs": []
    },
    {
      "cell_type": "code",
      "metadata": {
        "id": "ig_vS8O925qI",
        "colab": {
          "base_uri": "https://localhost:8080/"
        },
        "outputId": "bd7a7bb3-f9f1-44d5-be90-fadb21f89b47"
      },
      "source": [
        "optimal_clf = KNeighborsClassifier(n_neighbors=4, metric=\"manhattan\", weights=\"distance\")\n",
        "optimal_clf.fit(train_feature_matrix, train_labels)\n",
        "\n",
        "pred_prob = optimal_clf.predict(test_feature_matrix)\n",
        "accuracy_score(pred_prob, test_labels)\n",
        "print(pred_prob)\n",
        "print(test_labels)"
      ],
      "execution_count": null,
      "outputs": [
        {
          "output_type": "stream",
          "name": "stdout",
          "text": [
            "[2 1 2 ... 1 2 1]\n",
            "[2 1 2 ... 1 2 7]\n"
          ]
        }
      ]
    },
    {
      "cell_type": "code",
      "metadata": {
        "id": "2kkapT38KxZz",
        "colab": {
          "base_uri": "https://localhost:8080/",
          "height": 713
        },
        "outputId": "d823c86d-d916-49ce-fc59-ec9915c75a2b"
      },
      "source": [
        "import matplotlib.pyplot as plt\n",
        "%matplotlib inline\n",
        "import numpy as np\n",
        "\n",
        "unique, freq = np.unique(test_labels, return_counts=True)\n",
        "freq = list(map(lambda x: x / len(test_labels),freq))\n",
        "\n",
        "pred_freq = np.unique(pred_prob, return_counts=True)[1]\n",
        "pred_freq = list(map(lambda x: x / len(pred_prob), pred_freq))\n",
        "print(freq)\n",
        "print(pred_freq)\n",
        "\n",
        "plt.figure(figsize=(10, 8))\n",
        "plt.bar(range(1, 8), [x for x in pred_freq], width=0.4, align=\"edge\", label='prediction')\n",
        "plt.bar(range(1, 8), freq, width=-0.4, align=\"edge\", label='real')\n",
        "plt.ylim(0, 2.1)\n",
        "plt.legend()\n",
        "plt.show()"
      ],
      "execution_count": null,
      "outputs": [
        {
          "output_type": "stream",
          "name": "stdout",
          "text": [
            "[0.368, 0.4865, 0.0555, 0.0055, 0.0165, 0.028, 0.04]\n",
            "[0.374, 0.506, 0.053, 0.005, 0.009, 0.023, 0.03]\n"
          ]
        },
        {
          "output_type": "display_data",
          "data": {
            "text/plain": [
              "<Figure size 1000x800 with 1 Axes>"
            ],
            "image/png": "[encoded data removed]"
          },
          "metadata": {}
        }
      ]
    },
    {
      "cell_type": "markdown",
      "metadata": {
        "id": "gp4uDyLmKxZ3"
      },
      "source": [
        "### Вопрос 5:\n",
        "* Какая прогнозируемая вероятность pred_freq класса под номером 3 (до 2 знаков после запятой)?"
      ]
    }
  ]
}